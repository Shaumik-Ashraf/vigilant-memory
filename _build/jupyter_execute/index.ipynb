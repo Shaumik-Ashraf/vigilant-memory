{
 "cells": [
  {
   "cell_type": "code",
   "execution_count": 1,
   "id": "26f022f4",
   "metadata": {},
   "outputs": [
    {
     "name": "stdout",
     "output_type": "stream",
     "text": [
      "This is an ipynb file.\n"
     ]
    }
   ],
   "source": [
    "print(\"This is an ipynb file.\");"
   ]
  },
  {
   "cell_type": "markdown",
   "id": "8511cc2a",
   "metadata": {},
   "source": [
    "**which includes markdown**"
   ]
  },
  {
   "cell_type": "code",
   "execution_count": null,
   "id": "a9b654be",
   "metadata": {},
   "outputs": [],
   "source": []
  }
 ],
 "metadata": {
  "kernelspec": {
   "display_name": "Python 3 (ipykernel)",
   "language": "python",
   "name": "python3"
  },
  "language_info": {
   "codemirror_mode": {
    "name": "ipython",
    "version": 3
   },
   "file_extension": ".py",
   "mimetype": "text/x-python",
   "name": "python",
   "nbconvert_exporter": "python",
   "pygments_lexer": "ipython3",
   "version": "3.10.7"
  }
 },
 "nbformat": 4,
 "nbformat_minor": 5
}